{
 "cells": [
  {
   "cell_type": "code",
   "execution_count": 21,
   "id": "06dfaad2",
   "metadata": {},
   "outputs": [
    {
     "name": "stdout",
     "output_type": "stream",
     "text": [
      "Title: Lee Yeon\n",
      "Timestamp: 2023-11-28T06:52:51Z\n",
      "\n",
      "\n",
      "Title: China TV Drama Awards\n",
      "Timestamp: 2023-08-09T04:11:51Z\n",
      "\n",
      "\n",
      "Title: Bursting Point\n",
      "Timestamp: 2023-12-17T15:02:08Z\n",
      "\n",
      "\n",
      "Title: Behind the Shadows (film)\n",
      "Timestamp: 2023-11-29T07:19:25Z\n",
      "\n",
      "\n",
      "Title: My Journey to You\n",
      "Timestamp: 2023-11-29T19:02:20Z\n",
      "\n",
      "\n",
      "Title: Will Or\n",
      "Timestamp: 2023-11-05T09:18:09Z\n",
      "\n",
      "\n",
      "Title: Lee Shin-young\n",
      "Timestamp: 2023-12-06T01:09:25Z\n",
      "\n",
      "\n",
      "Title: Austin Lin\n",
      "Timestamp: 2023-11-27T14:47:34Z\n",
      "\n",
      "\n",
      "Title: Robin Shou\n",
      "Timestamp: 2023-09-08T09:20:36Z\n",
      "\n",
      "\n",
      "Title: Charmaine Sheh\n",
      "Timestamp: 2023-12-12T04:28:19Z\n",
      "\n",
      "\n"
     ]
    }
   ],
   "source": [
    "import requests\n",
    "\n",
    "# 維基百科 API 的基本 URL\n",
    "api_url = \"https://en.wikipedia.org/w/api.php\"\n",
    "\n",
    "# 定義查詢的參數\n",
    "params = {\n",
    "    'action': 'query',\n",
    "    'format': 'json',\n",
    "    'list': 'search',\n",
    "    'srsearch': '演員',\n",
    "    'srprop': 'timestamp',  # 新增此參數以獲得文章的時間戳記\n",
    "}\n",
    "\n",
    "# 發送 GET 請求\n",
    "response = requests.get(api_url, params=params)\n",
    "\n",
    "# 檢查請求是否成功\n",
    "if response.status_code == 200:\n",
    "    # 解析 JSON 數據\n",
    "    data = response.json()\n",
    "\n",
    "    # 提取搜尋結果的文章標題和時間戳記\n",
    "    search_results = data['query']['search']\n",
    "    for result in search_results:\n",
    "        title = result['title']\n",
    "        timestamp = result['timestamp']\n",
    "        print(f'Title: {title}')\n",
    "        print(f'Timestamp: {timestamp}')\n",
    "        print('\\n')\n",
    "\n",
    "else:\n",
    "    print(f'Failed to retrieve search results. Status code:', response.status_code)\n"
   ]
  },
  {
   "cell_type": "code",
   "execution_count": null,
   "id": "69fbdd71",
   "metadata": {},
   "outputs": [],
   "source": []
  }
 ],
 "metadata": {
  "kernelspec": {
   "display_name": "Python 3 (ipykernel)",
   "language": "python",
   "name": "python3"
  },
  "language_info": {
   "codemirror_mode": {
    "name": "ipython",
    "version": 3
   },
   "file_extension": ".py",
   "mimetype": "text/x-python",
   "name": "python",
   "nbconvert_exporter": "python",
   "pygments_lexer": "ipython3",
   "version": "3.11.4"
  }
 },
 "nbformat": 4,
 "nbformat_minor": 5
}
