{
 "cells": [
  {
   "cell_type": "code",
   "execution_count": 12,
   "id": "8516c4f1",
   "metadata": {},
   "outputs": [
    {
     "name": "stdout",
     "output_type": "stream",
     "text": [
      "我想了解最近金馬獎的討論文章會有多少\n"
     ]
    }
   ],
   "source": [
    "print('我想了解最近金馬獎的討論文章會有多少')\n",
    "import requests\n",
    "from bs4 import BeautifulSoup\n",
    "\n",
    "# 設置 Yahoo 新聞台的 URL\n",
    "url = 'https://tw.news.yahoo.com/movieintheaters'\n",
    "\n",
    "# 關鍵詞\n",
    "keyword = \"金馬\"\n",
    "\n",
    "# 發送 GET 請求並獲取頁面內容\n",
    "response = requests.get(url)\n",
    "\n",
    "if response.status_code == 200:\n",
    "    # 使用 Beautiful Soup 解析頁面內容\n",
    "    soup = BeautifulSoup(response.text, 'html.parser')\n",
    "    \n",
    "    # 找到新聞文章的元素，通常它們有一個特定的 class\n",
    "    articles = soup.find_all(class_='Mb(5px)')\n",
    "\n",
    "    # 遍歷新聞文章元素並提取信息\n",
    "    for article in articles:\n",
    "        title_element = article.find('h3')\n",
    "        summary_element = article.find('p')\n",
    "        date_element = article.find('time')\n",
    "\n",
    "        # 檢查是否找到元素\n",
    "        if title_element and summary_element and date_element:\n",
    "            title = title_element.text\n",
    "            summary = summary_element.text\n",
    "            date = date_element.text\n",
    "\n",
    "            # 檢查新聞標題或摘要中是否包含關鍵詞\n",
    "            if keyword in title or keyword in summary:\n",
    "                print(f'Title: {title}')\n",
    "                print(f'Summary: {summary}')\n",
    "                print(f'Date: {date}')\n",
    "                print('\\n')\n",
    "else:\n",
    "    print('Failed to retrieve the page. Status code:', response.status_code)"
   ]
  },
  {
   "cell_type": "code",
   "execution_count": null,
   "id": "550ed4ec",
   "metadata": {},
   "outputs": [],
   "source": []
  }
 ],
 "metadata": {
  "kernelspec": {
   "display_name": "Python 3 (ipykernel)",
   "language": "python",
   "name": "python3"
  },
  "language_info": {
   "codemirror_mode": {
    "name": "ipython",
    "version": 3
   },
   "file_extension": ".py",
   "mimetype": "text/x-python",
   "name": "python",
   "nbconvert_exporter": "python",
   "pygments_lexer": "ipython3",
   "version": "3.11.4"
  }
 },
 "nbformat": 4,
 "nbformat_minor": 5
}
